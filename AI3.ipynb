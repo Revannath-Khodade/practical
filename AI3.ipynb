{
 "cells": [
  {
   "cell_type": "code",
   "execution_count": 7,
   "id": "f316e99e-06c0-4254-b74c-1dd3adab6517",
   "metadata": {},
   "outputs": [
    {
     "name": "stdin",
     "output_type": "stream",
     "text": [
      "Total number of elements:  2\n",
      "Enter value 1:  32\n",
      "Enter value 2:  12\n"
     ]
    },
    {
     "name": "stdout",
     "output_type": "stream",
     "text": [
      "Unsorted Array: [32, 12]\n",
      "Selection Sort\n",
      "Sorted Array: [12, 32]\n"
     ]
    }
   ],
   "source": [
    "import heapq\n",
    "\n",
    "a = [int(input(f\"Enter value {i+1}: \")) \n",
    "for i in range(int(input(\"Total number of elements: \")))]\n",
    "print(\"Unsorted Array:\", a)\n",
    "\n",
    "for i in range(len(a)):\n",
    "    min_idx = i\n",
    "    for j in range(i+1, len(a)):\n",
    "        if a[j] < a[min_idx]:\n",
    "            min_idx = j\n",
    "    a[i], a[min_idx] = a[min_idx], a[i]\n",
    "\n",
    "print(\"Selection Sort\")\n",
    "print(\"Sorted Array:\", a)"
   ]
  },
  {
   "cell_type": "code",
   "execution_count": 13,
   "id": "b8d67c23-1a93-48d8-b186-e8a1e6f579c0",
   "metadata": {},
   "outputs": [
    {
     "name": "stdout",
     "output_type": "stream",
     "text": [
      "Edges in the MST: [('A', 'B', 2), ('B', 'C', 1), ('B', 'D', 4)]\n",
      "A - B with weight 2\n",
      "B - C with weight 1\n",
      "B - D with weight 4\n"
     ]
    }
   ],
   "source": [
    "graph = {\n",
    "    'A': {'B': 2, 'C': 3},\n",
    "    'B': {'A': 2, 'C': 1, 'D': 4},\n",
    "    'C': {'A': 3, 'B': 1, 'D': 5},\n",
    "    'D': {'B': 4, 'C': 5}\n",
    "}\n",
    "\n",
    "def prims(graph, start):\n",
    "    mst = []\n",
    "    visited = set([start])\n",
    "    \n",
    "    while len(visited) < len(graph):\n",
    "        edges = []\n",
    "        for node in visited:\n",
    "            for neighbor, weight in graph[node].items():\n",
    "                if neighbor not in visited:\n",
    "                    edges.append((weight, node, neighbor))\n",
    "        weight, src, dest = min(edges)\n",
    "        mst.append((src, dest, weight))\n",
    "        visited.add(dest)\n",
    "    \n",
    "    return mst\n",
    "\n",
    "\n",
    "mst = prims(graph, 'A')\n",
    "print(\"Edges in the MST:\", mst)\n",
    "for src, dest, weight in mst:\n",
    "    print(f\"{src} - {dest} with weight {weight}\")"
   ]
  },
  {
   "cell_type": "code",
   "execution_count": null,
   "id": "237b91fa-4050-4980-9168-dec537c25e9e",
   "metadata": {},
   "outputs": [],
   "source": []
  }
 ],
 "metadata": {
  "kernelspec": {
   "display_name": "Python 3 (ipykernel)",
   "language": "python",
   "name": "python3"
  },
  "language_info": {
   "codemirror_mode": {
    "name": "ipython",
    "version": 3
   },
   "file_extension": ".py",
   "mimetype": "text/x-python",
   "name": "python",
   "nbconvert_exporter": "python",
   "pygments_lexer": "ipython3",
   "version": "3.13.3"
  }
 },
 "nbformat": 4,
 "nbformat_minor": 5
}
