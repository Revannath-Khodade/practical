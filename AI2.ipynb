{
 "cells": [
  {
   "cell_type": "code",
   "execution_count": 2,
   "id": "1f0abee2-1c1e-4694-92bc-5c8cb91678f3",
   "metadata": {},
   "outputs": [],
   "source": [
    "import heapq\n",
    "\n",
    "def heuristic(a, b):\n",
    "    return abs(a[0] - b[0]) + abs(a[1] - b[1])\n",
    "\n",
    "def astar(grid, start, goal):\n",
    "    rows, cols = len(grid), len(grid[0])\n",
    "    open_list = [(0 + heuristic(start, goal), 0, start, [])]\n",
    "    visited = set()\n",
    "\n",
    "    while open_list:\n",
    "        f, g, current, path = heapq.heappop(open_list)\n",
    "        if current in visited:\n",
    "            continue\n",
    "        path = path + [current]\n",
    "        if current == goal:\n",
    "            return path\n",
    "        visited.add(current)\n",
    "\n",
    "        for dr, dc in [(-1,0),(1,0),(0,-1),(0,1)]:\n",
    "            nr, nc = current[0] + dr, current[1] + dc\n",
    "            neighbor = (nr, nc)\n",
    "            if 0 <= nr < rows and 0 <= nc < cols and grid[nr][nc] == 0:\n",
    "                if neighbor not in visited:\n",
    "                    heapq.heappush(open_list, (g + 1 + heuristic(neighbor, goal), g + 1, neighbor, path))\n",
    "    return None"
   ]
  },
  {
   "cell_type": "code",
   "execution_count": 3,
   "id": "4af93695-3d77-4970-a2a9-feeeef0d0e89",
   "metadata": {},
   "outputs": [
    {
     "name": "stdout",
     "output_type": "stream",
     "text": [
      "Path: [(0, 0), (1, 0), (2, 0), (2, 1), (2, 2), (3, 2), (4, 2), (4, 3), (4, 4)]\n"
     ]
    }
   ],
   "source": [
    "grid = [\n",
    "    [0, 1, 0, 1, 0],\n",
    "    [0, 1, 0, 1, 0],\n",
    "    [0, 0, 0, 1, 0],\n",
    "    [1, 1, 0, 1, 0],\n",
    "    [0, 0, 0, 0, 0]\n",
    "]\n",
    "start, goal = (0, 0), (4, 4)\n",
    "path = astar(grid, start, goal)\n",
    "print(\"Path:\", path if path else \"No path found\")"
   ]
  },
  {
   "cell_type": "code",
   "execution_count": null,
   "id": "a5f135fd-fcc4-4fce-ad4f-e1b511f573cc",
   "metadata": {},
   "outputs": [],
   "source": []
  }
 ],
 "metadata": {
  "kernelspec": {
   "display_name": "Python 3 (ipykernel)",
   "language": "python",
   "name": "python3"
  },
  "language_info": {
   "codemirror_mode": {
    "name": "ipython",
    "version": 3
   },
   "file_extension": ".py",
   "mimetype": "text/x-python",
   "name": "python",
   "nbconvert_exporter": "python",
   "pygments_lexer": "ipython3",
   "version": "3.13.3"
  }
 },
 "nbformat": 4,
 "nbformat_minor": 5
}
