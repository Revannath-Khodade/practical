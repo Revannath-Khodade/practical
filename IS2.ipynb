{
 "cells": [
  {
   "cell_type": "code",
   "execution_count": 4,
   "id": "5f6161ff-aafa-4b06-b357-a8f51a7d74a3",
   "metadata": {},
   "outputs": [
    {
     "name": "stdin",
     "output_type": "stream",
     "text": [
      "Enter message:  Hello Word\n",
      "Enter key (number):  3\n"
     ]
    },
    {
     "name": "stdout",
     "output_type": "stream",
     "text": [
      "Encrypted: HloeorlWd\n",
      "Decrypted: HelloWord\n"
     ]
    }
   ],
   "source": [
    "def encrypt(message, key):\n",
    "    encrypted = \"\"\n",
    "    \n",
    "    for col in range(key):\n",
    "        pointer = col\n",
    "        while pointer < len(message):\n",
    "            encrypted += message[pointer]\n",
    "            pointer += key\n",
    "    return encrypted\n",
    "\n",
    "def decrypt(ciphertext, key):\n",
    "    num_rows = len(ciphertext) // key\n",
    "    if len(ciphertext) % key != 0:\n",
    "        num_rows += 1\n",
    "\n",
    "    decrypted = [''] * len(ciphertext)\n",
    "    index = 0\n",
    "\n",
    "    for col in range(key):\n",
    "        pointer = col\n",
    "        while pointer < len(ciphertext):\n",
    "            decrypted[pointer] = ciphertext[index]\n",
    "            pointer += key\n",
    "            index += 1\n",
    "    return ''.join(decrypted)\n",
    "\n",
    "\n",
    "message = input(\"Enter message: \").replace(\" \", \"\")\n",
    "key = int(input(\"Enter key (number): \"))\n",
    "\n",
    "\n",
    "encrypted_msg = encrypt(message, key)\n",
    "print(\"Encrypted:\", encrypted_msg)\n",
    "\n",
    "\n",
    "decrypted_msg = decrypt(encrypted_msg, key)\n",
    "print(\"Decrypted:\", decrypted_msg)\n"
   ]
  },
  {
   "cell_type": "code",
   "execution_count": null,
   "id": "e3b1eb52-aba9-4e78-9494-3d7acadb0b77",
   "metadata": {},
   "outputs": [],
   "source": []
  }
 ],
 "metadata": {
  "kernelspec": {
   "display_name": "Python 3 (ipykernel)",
   "language": "python",
   "name": "python3"
  },
  "language_info": {
   "codemirror_mode": {
    "name": "ipython",
    "version": 3
   },
   "file_extension": ".py",
   "mimetype": "text/x-python",
   "name": "python",
   "nbconvert_exporter": "python",
   "pygments_lexer": "ipython3",
   "version": "3.13.3"
  }
 },
 "nbformat": 4,
 "nbformat_minor": 5
}
