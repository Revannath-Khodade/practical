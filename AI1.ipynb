{
 "cells": [
  {
   "cell_type": "code",
   "execution_count": 1,
   "id": "50acd3b0-d8f9-4e71-8305-73662d3d3845",
   "metadata": {},
   "outputs": [],
   "source": [
    "graph = {\n",
    "    'A': set(['B', 'C']),\n",
    "    'B': set(['A', 'D', 'E']),\n",
    "    'C': set(['A', 'F', 'G']),\n",
    "    'D': set(['B']),\n",
    "    'E': set(['B']),\n",
    "    'F': set(['C']),\n",
    "    'G': set(['C'])\n",
    "}"
   ]
  },
  {
   "cell_type": "code",
   "execution_count": 2,
   "id": "e82c1b46-003c-473b-9d50-a94e77dddb91",
   "metadata": {},
   "outputs": [],
   "source": [
    "def dfs(graph, node, visited):\n",
    "    if node not in visited:\n",
    "        print(node, end=\" \")\n",
    "        visited.add(node)\n",
    "        for neighbor in sorted(graph[node]):\n",
    "            dfs(graph, neighbor, visited)"
   ]
  },
  {
   "cell_type": "code",
   "execution_count": 3,
   "id": "4680c26f-c67e-457c-abcd-c46e5d9403f3",
   "metadata": {},
   "outputs": [],
   "source": [
    "def bfs(graph, start):\n",
    "    visited = set()\n",
    "    queue = [start]\n",
    "    \n",
    "    while queue:\n",
    "        vertex = queue.pop(0)\n",
    "        if vertex not in visited:\n",
    "            print(vertex, end=\" \")\n",
    "            visited.add(vertex)\n",
    "            for neighbor in sorted(graph[vertex]):\n",
    "                if neighbor not in visited:\n",
    "                    queue.append(neighbor)"
   ]
  },
  {
   "cell_type": "code",
   "execution_count": 4,
   "id": "e03ba064-395f-4b35-86c8-3f22d11e0d10",
   "metadata": {},
   "outputs": [
    {
     "name": "stdout",
     "output_type": "stream",
     "text": [
      "DFS Traversal starting from B:\n",
      "B A C F G D E "
     ]
    }
   ],
   "source": [
    "print(\"DFS Traversal starting from B:\")\n",
    "dfs(graph, 'B', set())"
   ]
  },
  {
   "cell_type": "code",
   "execution_count": 6,
   "id": "8bca8c0c-03c8-4cd9-982b-3dd3e82734d2",
   "metadata": {},
   "outputs": [
    {
     "name": "stdout",
     "output_type": "stream",
     "text": [
      "\n",
      "BFS Traversal starting from A:\n",
      "A B C D E F G "
     ]
    }
   ],
   "source": [
    "print(\"\\nBFS Traversal starting from A:\")\n",
    "bfs(graph, 'A')"
   ]
  },
  {
   "cell_type": "code",
   "execution_count": null,
   "id": "5df8eb3e-fd6f-4264-81e7-86dfb24db397",
   "metadata": {},
   "outputs": [],
   "source": []
  }
 ],
 "metadata": {
  "kernelspec": {
   "display_name": "Python 3 (ipykernel)",
   "language": "python",
   "name": "python3"
  },
  "language_info": {
   "codemirror_mode": {
    "name": "ipython",
    "version": 3
   },
   "file_extension": ".py",
   "mimetype": "text/x-python",
   "name": "python",
   "nbconvert_exporter": "python",
   "pygments_lexer": "ipython3",
   "version": "3.13.3"
  }
 },
 "nbformat": 4,
 "nbformat_minor": 5
}
