{
 "cells": [
  {
   "cell_type": "code",
   "execution_count": 1,
   "id": "1b35a083-3523-45d1-8376-609155622feb",
   "metadata": {},
   "outputs": [
    {
     "name": "stdout",
     "output_type": "stream",
     "text": [
      "RSA Encryption/Decryption Program\n"
     ]
    },
    {
     "name": "stdin",
     "output_type": "stream",
     "text": [
      "Enter a prime number p:  23\n",
      "Enter another prime number q:  17\n"
     ]
    },
    {
     "name": "stdout",
     "output_type": "stream",
     "text": [
      "Public Key (e, n): (3, 391)\n",
      "Private Key (d, n): (235, 391)\n"
     ]
    },
    {
     "name": "stdin",
     "output_type": "stream",
     "text": [
      "Enter a message to encrypt:  hello world\n"
     ]
    },
    {
     "name": "stdout",
     "output_type": "stream",
     "text": [
      "Encrypted Message: [348, 16, 301, 301, 304, 315, 340, 304, 45, 301, 213]\n",
      "Decrypted Message: hello world\n"
     ]
    }
   ],
   "source": [
    "import math\n",
    "\n",
    "\n",
    "def is_prime(num):\n",
    "    if num <= 1:\n",
    "        return False\n",
    "    for i in range(2, int(math.sqrt(num)) + 1):\n",
    "        if num % i == 0:\n",
    "            return False\n",
    "    return True\n",
    "\n",
    "\n",
    "def generate_keys(p, q):\n",
    "    if not (is_prime(p) and is_prime(q)):\n",
    "        raise ValueError(\"Both numbers must be prime.\")\n",
    "    if p == q:\n",
    "        raise ValueError(\"p and q cannot be the same.\")\n",
    "\n",
    "    n = p * q\n",
    "    phi = (p - 1) * (q - 1)\n",
    "\n",
    "   \n",
    "    e = 3\n",
    "    while math.gcd(e, phi) != 1:\n",
    "        e += 2  \n",
    "\n",
    "   \n",
    "    d = pow(e, -1, phi)\n",
    "\n",
    "    return (e, n), (d, n)\n",
    "\n",
    "\n",
    "def encrypt(public_key, message):\n",
    "    e, n = public_key\n",
    "    return [pow(ord(char), e, n) for char in message]\n",
    "\n",
    "\n",
    "def decrypt(private_key, ciphertext):\n",
    "    d, n = private_key\n",
    "    return ''.join([chr(pow(char, d, n)) for char in ciphertext])\n",
    "\n",
    "\n",
    "print(\"RSA Encryption/Decryption Program\")\n",
    "try:\n",
    "    p = int(input(\"Enter a prime number p: \"))\n",
    "    q = int(input(\"Enter another prime number q: \"))\n",
    "\n",
    "    public_key, private_key = generate_keys(p, q)\n",
    "\n",
    "    print(\"Public Key (e, n):\", public_key)\n",
    "    print(\"Private Key (d, n):\", private_key)\n",
    "\n",
    "    message = input(\"Enter a message to encrypt: \")\n",
    "    encrypted = encrypt(public_key, message)\n",
    "    print(\"Encrypted Message:\", encrypted)\n",
    "\n",
    "    decrypted = decrypt(private_key, encrypted)\n",
    "    print(\"Decrypted Message:\", decrypted)\n",
    "\n",
    "except ValueError as ve:\n",
    "    print(\"Error:\", ve)\n"
   ]
  },
  {
   "cell_type": "code",
   "execution_count": null,
   "id": "28fab6fd-75dc-44d7-9099-ad889b234af6",
   "metadata": {},
   "outputs": [],
   "source": []
  }
 ],
 "metadata": {
  "kernelspec": {
   "display_name": "Python 3 (ipykernel)",
   "language": "python",
   "name": "python3"
  },
  "language_info": {
   "codemirror_mode": {
    "name": "ipython",
    "version": 3
   },
   "file_extension": ".py",
   "mimetype": "text/x-python",
   "name": "python",
   "nbconvert_exporter": "python",
   "pygments_lexer": "ipython3",
   "version": "3.13.3"
  }
 },
 "nbformat": 4,
 "nbformat_minor": 5
}
