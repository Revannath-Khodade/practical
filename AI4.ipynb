{
 "cells": [
  {
   "cell_type": "code",
   "execution_count": 11,
   "id": "6b963da9-7698-488a-be46-4456f1022672",
   "metadata": {},
   "outputs": [
    {
     "name": "stdout",
     "output_type": "stream",
     "text": [
      "N-Queens Solution using Backtracking:\n",
      ". Q . .\n",
      ". . . Q\n",
      "Q . . .\n",
      ". . Q .\n",
      "\n"
     ]
    },
    {
     "data": {
      "text/plain": [
       "True"
      ]
     },
     "execution_count": 11,
     "metadata": {},
     "output_type": "execute_result"
    }
   ],
   "source": [
    "def print_board(board):\n",
    "    for row in board:\n",
    "        print(\" \".join(\"Q\" if col else \".\" for col in row))\n",
    "    print()\n",
    "\n",
    "def is_safe(board, row, col, n):\n",
    "    \n",
    "    for i in range(row):\n",
    "        if board[i][col]:\n",
    "            return False\n",
    "    \n",
    "    for i, j in zip(range(row-1, -1, -1), range(col-1, -1, -1)):\n",
    "        if board[i][j]:\n",
    "            return False\n",
    "    \n",
    "    for i, j in zip(range(row-1, -1, -1), range(col+1, n)):\n",
    "        if board[i][j]:\n",
    "            return False\n",
    "    return True\n",
    "    \n",
    "def solve_n_queens_bt(board, row, n):\n",
    "    if row == n:\n",
    "        print_board(board)\n",
    "        return True  \n",
    "    for col in range(n):\n",
    "        if is_safe(board, row, col, n):\n",
    "            board[row][col] = 1\n",
    "            if solve_n_queens_bt(board, row + 1, n):\n",
    "                return True\n",
    "            board[row][col] = 0  \n",
    "    return False\n",
    "\n",
    "\n",
    "n = 4\n",
    "board = [[0]*n for _ in range(n)]\n",
    "print(\"N-Queens Solution using Backtracking:\")\n",
    "solve_n_queens_bt(board, 0, n)"
   ]
  },
  {
   "cell_type": "code",
   "execution_count": null,
   "id": "e9336ce6-1166-447a-a331-5beeacc349e6",
   "metadata": {},
   "outputs": [],
   "source": []
  }
 ],
 "metadata": {
  "kernelspec": {
   "display_name": "Python 3 (ipykernel)",
   "language": "python",
   "name": "python3"
  },
  "language_info": {
   "codemirror_mode": {
    "name": "ipython",
    "version": 3
   },
   "file_extension": ".py",
   "mimetype": "text/x-python",
   "name": "python",
   "nbconvert_exporter": "python",
   "pygments_lexer": "ipython3",
   "version": "3.13.3"
  }
 },
 "nbformat": 4,
 "nbformat_minor": 5
}
