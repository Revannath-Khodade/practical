{
 "cells": [
  {
   "cell_type": "code",
   "execution_count": 10,
   "id": "65fdb145-933b-4c76-b5bc-3828a8f64d9f",
   "metadata": {},
   "outputs": [
    {
     "name": "stdout",
     "output_type": "stream",
     "text": [
      "Original String: HelloWorld\n",
      "\n",
      "Char|AND-127|XOR-127\n",
      "H   | 72   | 55\n",
      "e   | 101   | 26\n",
      "l   | 108   | 19\n",
      "l   | 108   | 19\n",
      "o   | 111   | 16\n",
      "W   | 87   | 40\n",
      "o   | 111   | 16\n",
      "r   | 114   | 13\n",
      "l   | 108   | 19\n",
      "d   | 100   | 27\n",
      "\n",
      "String after AND with 127: HelloWorld\n",
      "\u0013\u001bring after XOR with 127: 7\u001a\u0013\u0013\u0010(\u0010\n"
     ]
    }
   ],
   "source": [
    "s = \"HelloWorld\"\n",
    "\n",
    "print(\"Original String:\", s)\n",
    "print(\"\\nChar|AND-127|XOR-127\")\n",
    "\n",
    "and_str = ''\n",
    "xor_str = ''\n",
    "\n",
    "for c in s:\n",
    "    a = ord(c) & 127\n",
    "    x = ord(c) ^ 127\n",
    "    and_str += chr(a)\n",
    "    xor_str += chr(x)\n",
    "    print(c,\"  |\",a,\"  |\",x)\n",
    "\n",
    "print(\"\\nString after AND with 127:\", and_str)\n",
    "print(\"String after XOR with 127:\", xor_str)"
   ]
  },
  {
   "cell_type": "code",
   "execution_count": null,
   "id": "65535358-dbb3-477e-8cdf-0a8f3cf9a478",
   "metadata": {},
   "outputs": [],
   "source": []
  }
 ],
 "metadata": {
  "kernelspec": {
   "display_name": "Python 3 (ipykernel)",
   "language": "python",
   "name": "python3"
  },
  "language_info": {
   "codemirror_mode": {
    "name": "ipython",
    "version": 3
   },
   "file_extension": ".py",
   "mimetype": "text/x-python",
   "name": "python",
   "nbconvert_exporter": "python",
   "pygments_lexer": "ipython3",
   "version": "3.13.3"
  }
 },
 "nbformat": 4,
 "nbformat_minor": 5
}
